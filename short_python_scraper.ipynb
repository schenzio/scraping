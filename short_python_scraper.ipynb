{
  "nbformat": 4,
  "nbformat_minor": 0,
  "metadata": {
    "colab": {
      "name": "short_python_scraper",
      "provenance": [],
      "include_colab_link": true
    },
    "kernelspec": {
      "name": "python3",
      "display_name": "Python 3"
    },
    "language_info": {
      "name": "python"
    }
  },
  "cells": [
    {
      "cell_type": "markdown",
      "metadata": {
        "id": "view-in-github",
        "colab_type": "text"
      },
      "source": [
        "<a href=\"https://colab.research.google.com/github/schenzio/scraping/blob/main/short_python_scraper.ipynb\" target=\"_parent\"><img src=\"https://colab.research.google.com/assets/colab-badge.svg\" alt=\"Open In Colab\"/></a>"
      ]
    },
    {
      "cell_type": "code",
      "metadata": {
        "id": "FUIAWY1-SPod"
      },
      "source": [
        "!pip install requests\n",
        "!pip install requests_cache\n",
        "!pip install lxml\n",
        "!pip install pandas"
      ],
      "execution_count": null,
      "outputs": []
    },
    {
      "cell_type": "code",
      "metadata": {
        "id": "Rzt-L1zDSU0N"
      },
      "source": [
        "import requests\n",
        "import requests_cache\n",
        "from lxml import html"
      ],
      "execution_count": null,
      "outputs": []
    },
    {
      "cell_type": "code",
      "metadata": {
        "id": "0WBr13hiSdTj"
      },
      "source": [
        "BASE_URL = 'https://www.nobelprize.org'\n",
        "requests_cache.install_cache('nobel_cache')"
      ],
      "execution_count": null,
      "outputs": []
    },
    {
      "cell_type": "code",
      "metadata": {
        "id": "Kg-D7Fu2S5q_"
      },
      "source": [
        "start_url = BASE_URL+'/nobel_prizes/lists/all/'\n",
        "r = requests.get(start_url)\n",
        "root = html.fromstring(r.text)"
      ],
      "execution_count": null,
      "outputs": []
    },
    {
      "cell_type": "code",
      "metadata": {
        "id": "hqY5ieIWTbuA"
      },
      "source": [
        "for child in root:\n",
        "  print(child.tag, child.attrib)"
      ],
      "execution_count": null,
      "outputs": []
    },
    {
      "cell_type": "code",
      "metadata": {
        "id": "V6unRemEVjHN"
      },
      "source": [
        "for child in root.xpath('body/*'):\n",
        "  print(child.tag, child.attrib)"
      ],
      "execution_count": null,
      "outputs": []
    },
    {
      "cell_type": "code",
      "metadata": {
        "id": "W2vp8hceVoEt"
      },
      "source": [
        "for child in root.xpath('body/main/*'):\n",
        "  print(child.tag, child.attrib)"
      ],
      "execution_count": null,
      "outputs": []
    },
    {
      "cell_type": "code",
      "metadata": {
        "id": "lwqoQFJgVrWM"
      },
      "source": [
        "for child in root.xpath('body/main/section[@class=\"page-section\"]/*'):\n",
        "  print(child.tag, child.attrib)"
      ],
      "execution_count": null,
      "outputs": []
    },
    {
      "cell_type": "code",
      "metadata": {
        "id": "hXBGwZ0thJKe"
      },
      "source": [
        "/html/body/main/section[2]/section/article/div[1]/h3[1]/a"
      ],
      "execution_count": null,
      "outputs": []
    },
    {
      "cell_type": "code",
      "metadata": {
        "id": "Xnc4VI7GWBJQ"
      },
      "source": [
        "for child in root.xpath('body/main/section[@class=\"page-section\"]/section/article/div[1]/h3[1]/a'):\n",
        "  print(child.tag, child.attrib)\n",
        "  print(child.get('href'))"
      ],
      "execution_count": null,
      "outputs": []
    },
    {
      "cell_type": "code",
      "metadata": {
        "id": "7I-Dv9qhWkFM"
      },
      "source": [
        "new_url = child.get('href')\n",
        "r_new = requests.get(new_url)\n",
        "root_new = html.fromstring(r_new.text)"
      ],
      "execution_count": null,
      "outputs": []
    },
    {
      "cell_type": "code",
      "metadata": {
        "id": "bQhYw5QZXlbN"
      },
      "source": [
        "for winner in root_new.xpath('//h3[@itemprop=\"name\"]/a'):\n",
        "  print(winner.text_content().strip(), winner.get('href'))"
      ],
      "execution_count": null,
      "outputs": []
    },
    {
      "cell_type": "markdown",
      "metadata": {
        "id": "g8xAUSKybIfq"
      },
      "source": [
        "for reference, see one of the many tutorial on XPATH, like this one: https://www.w3schools.com/xml/xpath_intro.asp"
      ]
    }
  ]
}